{
 "cells": [
  {
   "cell_type": "code",
   "execution_count": 1,
   "metadata": {},
   "outputs": [],
   "source": [
    "from bs4 import BeautifulSoup\n",
    "import requests"
   ]
  },
  {
   "cell_type": "code",
   "execution_count": 2,
   "metadata": {},
   "outputs": [],
   "source": [
    "BASE_URL = \"https://www.unileverfoodsolutions.co.th\""
   ]
  },
  {
   "cell_type": "code",
   "execution_count": 3,
   "metadata": {},
   "outputs": [],
   "source": [
    "soup = BeautifulSoup(open(\"resources/food_recipe_list.html\",encoding=\"utf8\"), \"html.parser\")"
   ]
  },
  {
   "cell_type": "code",
   "execution_count": 10,
   "metadata": {},
   "outputs": [
    {
     "data": {
      "text/plain": [
       "<div class=\"item-list__body span-3\">\n",
       "<a data-event-name=\"แกงอ่อมเนื้อสามสหาย\" data-event-type=\"Recipe Click\" href=\"/th/recipe/แกงอ่อมเนื้อสามสหาย-R90024018.html\" title=\"แกงอ่อมเนื้อสามสหาย\">\n",
       "<span class=\"item-list__title\">แกงอ่อมเนื้อสามสหาย</span>\n",
       "</a>\n",
       "</div>"
      ]
     },
     "execution_count": 10,
     "metadata": {},
     "output_type": "execute_result"
    }
   ],
   "source": [
    "recipe_cards = soup.select(\"div.item-list__body\")\n",
    "recipe_cards[0]"
   ]
  },
  {
   "cell_type": "code",
   "execution_count": 5,
   "metadata": {},
   "outputs": [
    {
     "data": {
      "text/plain": [
       "'แกงอ่อมเนื้อสามสหาย'"
      ]
     },
     "execution_count": 5,
     "metadata": {},
     "output_type": "execute_result"
    }
   ],
   "source": [
    "recipe_names = [card.select(\"span\")[0].text for card in recipe_cards]\n",
    "recipe_names[0]"
   ]
  },
  {
   "cell_type": "code",
   "execution_count": 4,
   "metadata": {},
   "outputs": [],
   "source": [
    "def get_ingredients(url):\n",
    "    soup = BeautifulSoup(requests.get(url).text, \"html.parser\")\n",
    "    ingredients = soup.select(\"span[itemprop=recipeIngredient]\")\n",
    "    return [ingredient.text for ingredient in ingredients]"
   ]
  },
  {
   "cell_type": "code",
   "execution_count": null,
   "metadata": {},
   "outputs": [],
   "source": [
    "data = []\n",
    "\n",
    "for card in recipe_cards:\n",
    "    recipe_name = card.select(\"span\")[0].text\n",
    "    recipe_ingredients = get_ingredients(BASE_URL + card.select(\"a\")[0][\"href\"])\n",
    "\n",
    "    data.append({\n",
    "        \"title\": recipe_name,\n",
    "        \"ingredients\": recipe_ingredients\n",
    "    })"
   ]
  },
  {
   "cell_type": "code",
   "execution_count": 9,
   "metadata": {},
   "outputs": [
    {
     "data": {
      "text/plain": [
       "[{'title': 'แกงอ่อมเนื้อสามสหาย',\n",
       "  'ingredients': ['เนื้อวัว 3 ชั้น หั่นชิ้นพอดีคำ',\n",
       "   'เนื้อวัวน่องลาย หั่นชิ้นพอดีคำ',\n",
       "   'เนื้อวัวส่วนแก้ม หั่นชิ้นพอดีคำ',\n",
       "   'ตะไคร้ทุบพอแตก',\n",
       "   'ข่าทุบพอแตก',\n",
       "   'หอมแดงทุบพอแตก',\n",
       "   'น้ำมันพืช ',\n",
       "   'น้ำสะอาด',\n",
       "   'บราวน์ซอส ตราคนอร์ 1 กิโลกรัม',\n",
       "   'พริกจินดาแดง',\n",
       "   'น้ำปลาร้า',\n",
       "   'ผักชีลาวสับละเอียด',\n",
       "   'พริกป่น',\n",
       "   'หน่อไม้ต้มสุก',\n",
       "   'กะหล่ำปลีต้มสุก',\n",
       "   'มะเขือเปาะต้มสุก']},\n",
       " {'title': 'มินิครัวซองต์ไก่กอร์ดองเบลอซอสพิซซ่า',\n",
       "  'ingredients': ['มอสซาเรลล่าชีส',\n",
       "   'สันในไก่',\n",
       "   'แฮมหมู',\n",
       "   'เกล็ดขนมปังป่น',\n",
       "   'ไข่ไก่ เบอร์ 4',\n",
       "   'มินิครัวซองต์สำเร็จรูป 3 ชิ้น',\n",
       "   'ซอสพิซซ่า ตราคนอร์ 1 กิโลกรัม']},\n",
       " {'title': 'ครัวซองต์แบนหน้าพิซซ่าไส้กรอก',\n",
       "  'ingredients': ['ครัวซองต์แช่แข็งสำเร็จรูป',\n",
       "   'ซอสพิซซ่า ตราคนอร์ 1 กิโลกรัม',\n",
       "   'ชีสมอสซาเรลล่า',\n",
       "   'ไส้กรอก']}]"
      ]
     },
     "execution_count": 9,
     "metadata": {},
     "output_type": "execute_result"
    }
   ],
   "source": [
    "data[:3]"
   ]
  },
  {
   "cell_type": "code",
   "execution_count": null,
   "metadata": {},
   "outputs": [],
   "source": [
    "# Write data into json file\n",
    "import json\n",
    "with open(\"resources/food_recipe_list.json\", \"w\", encoding=\"utf8\") as f:\n",
    "    json.dump(data, f, indent=4, ensure_ascii=False)"
   ]
  }
 ],
 "metadata": {
  "kernelspec": {
   "display_name": "Python 3",
   "language": "python",
   "name": "python3"
  },
  "language_info": {
   "codemirror_mode": {
    "name": "ipython",
    "version": 3
   },
   "file_extension": ".py",
   "mimetype": "text/x-python",
   "name": "python",
   "nbconvert_exporter": "python",
   "pygments_lexer": "ipython3",
   "version": "3.11.4"
  }
 },
 "nbformat": 4,
 "nbformat_minor": 2
}
