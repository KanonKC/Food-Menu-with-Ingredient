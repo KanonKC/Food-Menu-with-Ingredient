{
 "cells": [
  {
   "cell_type": "code",
   "execution_count": 2,
   "metadata": {},
   "outputs": [],
   "source": [
    "import json\n",
    "import random"
   ]
  },
  {
   "cell_type": "code",
   "execution_count": 3,
   "metadata": {},
   "outputs": [
    {
     "data": {
      "text/plain": [
       "[{'title': 'แกงอ่อมเนื้อสามสหาย',\n",
       "  'ingredients': ['เนื้อวัว 3 ชั้น หั่นชิ้นพอดีคำ',\n",
       "   'เนื้อวัวน่องลาย หั่นชิ้นพอดีคำ',\n",
       "   'เนื้อวัวส่วนแก้ม หั่นชิ้นพอดีคำ',\n",
       "   'ตะไคร้ทุบพอแตก',\n",
       "   'ข่าทุบพอแตก',\n",
       "   'หอมแดงทุบพอแตก',\n",
       "   'น้ำมันพืช ',\n",
       "   'น้ำสะอาด',\n",
       "   'บราวน์ซอส ตราคนอร์ 1 กิโลกรัม',\n",
       "   'พริกจินดาแดง',\n",
       "   'น้ำปลาร้า',\n",
       "   'ผักชีลาวสับละเอียด',\n",
       "   'พริกป่น',\n",
       "   'หน่อไม้ต้มสุก',\n",
       "   'กะหล่ำปลีต้มสุก',\n",
       "   'มะเขือเปาะต้มสุก']},\n",
       " {'title': 'มินิครัวซองต์ไก่กอร์ดองเบลอซอสพิซซ่า',\n",
       "  'ingredients': ['มอสซาเรลล่าชีส',\n",
       "   'สันในไก่',\n",
       "   'แฮมหมู',\n",
       "   'เกล็ดขนมปังป่น',\n",
       "   'ไข่ไก่ เบอร์ 4',\n",
       "   'มินิครัวซองต์สำเร็จรูป 3 ชิ้น',\n",
       "   'ซอสพิซซ่า ตราคนอร์ 1 กิโลกรัม']},\n",
       " {'title': 'ครัวซองต์แบนหน้าพิซซ่าไส้กรอก',\n",
       "  'ingredients': ['ครัวซองต์แช่แข็งสำเร็จรูป',\n",
       "   'ซอสพิซซ่า ตราคนอร์ 1 กิโลกรัม',\n",
       "   'ชีสมอสซาเรลล่า',\n",
       "   'ไส้กรอก']}]"
      ]
     },
     "execution_count": 3,
     "metadata": {},
     "output_type": "execute_result"
    }
   ],
   "source": [
    "menus = json.load(open('resources/food_recipe_list.json', encoding='utf-8'))\n",
    "menus[:3]"
   ]
  },
  {
   "cell_type": "code",
   "execution_count": 4,
   "metadata": {},
   "outputs": [
    {
     "data": {
      "text/plain": [
       "'อกเป็ดราดซอสฮันนี่ลาเวนเดอร์'"
      ]
     },
     "execution_count": 4,
     "metadata": {},
     "output_type": "execute_result"
    }
   ],
   "source": [
    "menus[random.randint(0, len(menus) - 1)][\"title\"]"
   ]
  },
  {
   "cell_type": "code",
   "execution_count": 5,
   "metadata": {},
   "outputs": [],
   "source": [
    "def is_in_list_member(keyword,list):\n",
    "    for i in list:\n",
    "        if keyword in i:\n",
    "            return True\n",
    "    return False"
   ]
  },
  {
   "cell_type": "code",
   "execution_count": 6,
   "metadata": {},
   "outputs": [
    {
     "name": "stdout",
     "output_type": "stream",
     "text": [
      "Found: 14 menus\n"
     ]
    },
    {
     "data": {
      "text/plain": [
       "'สเต็กเนื้อราดซอสพริกไทยดำ'"
      ]
     },
     "execution_count": 6,
     "metadata": {},
     "output_type": "execute_result"
    }
   ],
   "source": [
    "filter_ingredients = \"ไวน์\"\n",
    "filtered_menus = [menu for menu in menus if is_in_list_member(filter_ingredients,menu[\"ingredients\"])]\n",
    "\n",
    "print(f\"Found: {len(filtered_menus)} menus\")\n",
    "filtered_menus[random.randint(0, len(filtered_menus) - 1)][\"title\"]"
   ]
  }
 ],
 "metadata": {
  "kernelspec": {
   "display_name": "Python 3",
   "language": "python",
   "name": "python3"
  },
  "language_info": {
   "codemirror_mode": {
    "name": "ipython",
    "version": 3
   },
   "file_extension": ".py",
   "mimetype": "text/x-python",
   "name": "python",
   "nbconvert_exporter": "python",
   "pygments_lexer": "ipython3",
   "version": "3.11.4"
  }
 },
 "nbformat": 4,
 "nbformat_minor": 2
}
