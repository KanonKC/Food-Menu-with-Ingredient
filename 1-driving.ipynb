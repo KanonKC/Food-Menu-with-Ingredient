{
 "cells": [
  {
   "cell_type": "code",
   "execution_count": 5,
   "metadata": {},
   "outputs": [],
   "source": [
    "URL = \"https://www.unileverfoodsolutions.co.th/th/recipes/ประเภทเมนู_ยำ-สลัด/ประเภทเมนู_สูตรอาหารไทย/ประเภทเมนู_สูตรเบเกอรี่/ประเภทเมนู_อาหารตะวันตก/ประเภทเมนู_อาหารฟิวชั่น/ประเภทเมนู_อาหารเอเชีย/ประเภทเมนู_เครื่องดื่ม/ประเภทเมนู_เบเกอรี่และขนม/ประเภทเมนู_เมนูเนื้อจากพืช.html\""
   ]
  },
  {
   "cell_type": "code",
   "execution_count": 6,
   "metadata": {},
   "outputs": [],
   "source": [
    "from bs4 import BeautifulSoup\n",
    "from selenium import webdriver\n",
    "from selenium.webdriver.support.ui import WebDriverWait\n",
    "from selenium.webdriver.common.by import By\n",
    "from selenium.webdriver.support import expected_conditions as EC\n",
    "from selenium.webdriver.common.action_chains import ActionChains\n",
    "from time import sleep"
   ]
  },
  {
   "cell_type": "code",
   "execution_count": 7,
   "metadata": {},
   "outputs": [],
   "source": [
    "def recipe_count(soup):\n",
    "    titles = soup.select('span.item-list__title')\n",
    "    return len([title.text for title in titles])"
   ]
  },
  {
   "cell_type": "code",
   "execution_count": 8,
   "metadata": {},
   "outputs": [
    {
     "name": "stdout",
     "output_type": "stream",
     "text": [
      "Page 1 is loaded\n",
      "Page 2 is loaded\n",
      "Page 3 is loaded\n",
      "Page 4 is loaded\n",
      "Page 5 is loaded\n",
      "Page 6 is loaded\n",
      "Page 7 is loaded\n",
      "Page 8 is loaded\n",
      "Page 9 is loaded\n",
      "Page 10 is loaded\n",
      "Page 11 is loaded\n",
      "Page 12 is loaded\n",
      "Page 13 is loaded\n",
      "Page 14 is loaded\n",
      "Page 15 is loaded\n",
      "Page 16 is loaded\n",
      "Page 17 is loaded\n",
      "Page 18 is loaded\n",
      "Page 19 is loaded\n",
      "Page 20 is loaded\n",
      "Page 21 is loaded\n",
      "Page 22 is loaded\n",
      "Page 23 is loaded\n",
      "Page 24 is loaded\n",
      "Page 25 is loaded\n",
      "Page 26 is loaded\n",
      "Page 27 is loaded\n",
      "Page 28 is loaded\n",
      "Page 29 is loaded\n",
      "Page 30 is loaded\n",
      "Page 31 is loaded\n",
      "Page 32 is loaded\n",
      "Page 33 is loaded\n",
      "Page 34 is loaded\n",
      "Page 35 is loaded\n",
      "Page 36 is loaded\n",
      "Page 37 is loaded\n",
      "Page 38 is loaded\n",
      "Page 39 is loaded\n"
     ]
    }
   ],
   "source": [
    "page_count = 0\n",
    "pages = 100\n",
    "\n",
    "options = webdriver.ChromeOptions()\n",
    "options.add_argument('--headless')\n",
    "\n",
    "driver = webdriver.Chrome(options=options)\n",
    "driver.implicitly_wait(30)\n",
    "driver.get(URL)\n",
    "\n",
    "button = WebDriverWait(driver, 10).until(\n",
    "    EC.visibility_of_element_located((By.CLASS_NAME, \"js-load-more-recipes-v2\"))\n",
    ")\n",
    "\n",
    "sleep(0.5)\n",
    "\n",
    "cookie_button = driver.find_element(\"id\", \"onetrust-accept-btn-handler\")\n",
    "if cookie_button:\n",
    "    cookie_button.click()\n",
    "\n",
    "actionChains = ActionChains(driver)\n",
    "\n",
    "while button and page_count < pages:\n",
    "    try:\n",
    "        actionChains.scroll_to_element(button).move_to_element(button).click().perform()\n",
    "        button = WebDriverWait(driver, 10).until(\n",
    "            EC.visibility_of_element_located((By.CLASS_NAME, \"js-load-more-recipes-v2\"))\n",
    "        )\n",
    "    except:\n",
    "        button = None\n",
    "    \n",
    "    page_count += 1\n",
    "    print(f\"Page {page_count} is loaded\")\n",
    "    sleep(1)"
   ]
  },
  {
   "cell_type": "code",
   "execution_count": 9,
   "metadata": {},
   "outputs": [],
   "source": [
    "soup = BeautifulSoup(driver.page_source, 'html.parser')"
   ]
  },
  {
   "cell_type": "code",
   "execution_count": 10,
   "metadata": {},
   "outputs": [
    {
     "data": {
      "text/plain": [
       "['แกงอ่อมเนื้อสามสหาย',\n",
       " 'มินิครัวซองต์ไก่กอร์ดองเบลอซอสพิซซ่า',\n",
       " 'ครัวซองต์แบนหน้าพิซซ่าไส้กรอก',\n",
       " 'หมูปิ้งโบราณ',\n",
       " 'ตำเส้นพวงแคปหมูผักงูเขียว',\n",
       " 'ยำสามแซ่บ',\n",
       " 'พิซซ่าบอลลาวา',\n",
       " 'พิซซ่าหน้าฟุตบอล',\n",
       " 'ขนมปังอบไข่นกกระทาปูอัด',\n",
       " 'ปลาอินทรีย่าง น้ำปลาหวาน ยำหัวปลี']"
      ]
     },
     "execution_count": 10,
     "metadata": {},
     "output_type": "execute_result"
    }
   ],
   "source": [
    "titles = soup.select('span.item-list__title')\n",
    "titles = [title.text for title in titles]\n",
    "titles[:10]"
   ]
  },
  {
   "cell_type": "code",
   "execution_count": 11,
   "metadata": {},
   "outputs": [],
   "source": [
    "# Write soup to html file\n",
    "with open(\"resources/food_recipe_list.html\", \"w\", encoding=\"utf8\") as file:\n",
    "    file.write(str(soup))"
   ]
  }
 ],
 "metadata": {
  "kernelspec": {
   "display_name": "Python 3",
   "language": "python",
   "name": "python3"
  },
  "language_info": {
   "codemirror_mode": {
    "name": "ipython",
    "version": 3
   },
   "file_extension": ".py",
   "mimetype": "text/x-python",
   "name": "python",
   "nbconvert_exporter": "python",
   "pygments_lexer": "ipython3",
   "version": "3.11.4"
  }
 },
 "nbformat": 4,
 "nbformat_minor": 2
}
